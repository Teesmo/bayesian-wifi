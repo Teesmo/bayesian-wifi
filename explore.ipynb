{
 "cells": [
  {
   "cell_type": "code",
   "execution_count": 68,
   "metadata": {
    "collapsed": true
   },
   "outputs": [],
   "source": [
    "import pandas as pd\n",
    "\n",
    "desktop = pd.read_csv('data/desktop-saturday-afternoon/xmits.csv.gz')\n",
    "laptop = pd.read_csv('data/laptop-saturday-evening/xmits.csv.gz')"
   ]
  },
  {
   "cell_type": "code",
   "execution_count": 69,
   "metadata": {
    "collapsed": false
   },
   "outputs": [
    {
     "data": {
      "text/html": [
       "<div>\n",
       "<table border=\"1\" class=\"dataframe\">\n",
       "  <thead>\n",
       "    <tr style=\"text-align: right;\">\n",
       "      <th></th>\n",
       "      <th>time</th>\n",
       "      <th>mac</th>\n",
       "      <th>mode</th>\n",
       "      <th>streams</th>\n",
       "      <th>guard</th>\n",
       "      <th>name</th>\n",
       "      <th>airtime</th>\n",
       "      <th>ampdu_len</th>\n",
       "      <th>success</th>\n",
       "    </tr>\n",
       "  </thead>\n",
       "  <tbody>\n",
       "    <tr>\n",
       "      <th>0</th>\n",
       "      <td>68026.782261</td>\n",
       "      <td>ec:08:6b:19:02:9b</td>\n",
       "      <td>HT20</td>\n",
       "      <td>2</td>\n",
       "      <td>SGI</td>\n",
       "      <td>MCS14</td>\n",
       "      <td>74</td>\n",
       "      <td>1</td>\n",
       "      <td>1</td>\n",
       "    </tr>\n",
       "    <tr>\n",
       "      <th>1</th>\n",
       "      <td>68026.782421</td>\n",
       "      <td>ec:08:6b:19:02:9b</td>\n",
       "      <td>HT20</td>\n",
       "      <td>2</td>\n",
       "      <td>SGI</td>\n",
       "      <td>MCS14</td>\n",
       "      <td>74</td>\n",
       "      <td>1</td>\n",
       "      <td>1</td>\n",
       "    </tr>\n",
       "    <tr>\n",
       "      <th>2</th>\n",
       "      <td>68026.782631</td>\n",
       "      <td>ec:08:6b:19:02:9b</td>\n",
       "      <td>HT20</td>\n",
       "      <td>2</td>\n",
       "      <td>SGI</td>\n",
       "      <td>MCS14</td>\n",
       "      <td>74</td>\n",
       "      <td>1</td>\n",
       "      <td>1</td>\n",
       "    </tr>\n",
       "    <tr>\n",
       "      <th>3</th>\n",
       "      <td>68026.787453</td>\n",
       "      <td>ec:08:6b:19:02:9b</td>\n",
       "      <td>HT20</td>\n",
       "      <td>2</td>\n",
       "      <td>SGI</td>\n",
       "      <td>MCS14</td>\n",
       "      <td>74</td>\n",
       "      <td>1</td>\n",
       "      <td>1</td>\n",
       "    </tr>\n",
       "    <tr>\n",
       "      <th>4</th>\n",
       "      <td>68026.852576</td>\n",
       "      <td>ec:08:6b:19:02:9b</td>\n",
       "      <td>HT20</td>\n",
       "      <td>2</td>\n",
       "      <td>LGI</td>\n",
       "      <td>MCS9</td>\n",
       "      <td>369</td>\n",
       "      <td>1</td>\n",
       "      <td>0</td>\n",
       "    </tr>\n",
       "  </tbody>\n",
       "</table>\n",
       "</div>"
      ],
      "text/plain": [
       "           time                mac  mode  streams guard   name  airtime  \\\n",
       "0  68026.782261  ec:08:6b:19:02:9b  HT20        2   SGI  MCS14       74   \n",
       "1  68026.782421  ec:08:6b:19:02:9b  HT20        2   SGI  MCS14       74   \n",
       "2  68026.782631  ec:08:6b:19:02:9b  HT20        2   SGI  MCS14       74   \n",
       "3  68026.787453  ec:08:6b:19:02:9b  HT20        2   SGI  MCS14       74   \n",
       "4  68026.852576  ec:08:6b:19:02:9b  HT20        2   LGI   MCS9      369   \n",
       "\n",
       "   ampdu_len  success  \n",
       "0          1        1  \n",
       "1          1        1  \n",
       "2          1        1  \n",
       "3          1        1  \n",
       "4          1        0  "
      ]
     },
     "execution_count": 69,
     "metadata": {},
     "output_type": "execute_result"
    }
   ],
   "source": [
    "desktop.head()"
   ]
  },
  {
   "cell_type": "code",
   "execution_count": 70,
   "metadata": {
    "collapsed": false,
    "scrolled": true
   },
   "outputs": [
    {
     "data": {
      "text/plain": [
       "1500000"
      ]
     },
     "execution_count": 70,
     "metadata": {},
     "output_type": "execute_result"
    }
   ],
   "source": [
    "len(desktop)"
   ]
  },
  {
   "cell_type": "code",
   "execution_count": 71,
   "metadata": {
    "collapsed": false
   },
   "outputs": [
    {
     "data": {
      "text/plain": [
       "301184"
      ]
     },
     "execution_count": 71,
     "metadata": {},
     "output_type": "execute_result"
    }
   ],
   "source": [
    "len(desktop[desktop.success == 0])"
   ]
  },
  {
   "cell_type": "code",
   "execution_count": 72,
   "metadata": {
    "collapsed": false
   },
   "outputs": [
    {
     "data": {
      "text/html": [
       "<div>\n",
       "<table border=\"1\" class=\"dataframe\">\n",
       "  <thead>\n",
       "    <tr style=\"text-align: right;\">\n",
       "      <th></th>\n",
       "      <th>time</th>\n",
       "      <th>mac</th>\n",
       "      <th>mode</th>\n",
       "      <th>streams</th>\n",
       "      <th>guard</th>\n",
       "      <th>name</th>\n",
       "      <th>airtime</th>\n",
       "      <th>ampdu_len</th>\n",
       "      <th>success</th>\n",
       "    </tr>\n",
       "  </thead>\n",
       "  <tbody>\n",
       "    <tr>\n",
       "      <th>0</th>\n",
       "      <td>86118.628411</td>\n",
       "      <td>28:cf:e9:49:d7:09</td>\n",
       "      <td>HT20</td>\n",
       "      <td>2</td>\n",
       "      <td>LGI</td>\n",
       "      <td>MCS15</td>\n",
       "      <td>74</td>\n",
       "      <td>1</td>\n",
       "      <td>1</td>\n",
       "    </tr>\n",
       "    <tr>\n",
       "      <th>1</th>\n",
       "      <td>86119.060008</td>\n",
       "      <td>28:cf:e9:49:d7:09</td>\n",
       "      <td>HT20</td>\n",
       "      <td>1</td>\n",
       "      <td>LGI</td>\n",
       "      <td>MCS1</td>\n",
       "      <td>739</td>\n",
       "      <td>1</td>\n",
       "      <td>1</td>\n",
       "    </tr>\n",
       "    <tr>\n",
       "      <th>2</th>\n",
       "      <td>86119.972778</td>\n",
       "      <td>28:cf:e9:49:d7:09</td>\n",
       "      <td>HT20</td>\n",
       "      <td>1</td>\n",
       "      <td>SGI</td>\n",
       "      <td>MCS5</td>\n",
       "      <td>166</td>\n",
       "      <td>1</td>\n",
       "      <td>1</td>\n",
       "    </tr>\n",
       "    <tr>\n",
       "      <th>3</th>\n",
       "      <td>86124.408567</td>\n",
       "      <td>28:cf:e9:49:d7:09</td>\n",
       "      <td>CCK</td>\n",
       "      <td>1</td>\n",
       "      <td>SP</td>\n",
       "      <td>2.0M</td>\n",
       "      <td>5380</td>\n",
       "      <td>1</td>\n",
       "      <td>1</td>\n",
       "    </tr>\n",
       "    <tr>\n",
       "      <th>4</th>\n",
       "      <td>86124.410734</td>\n",
       "      <td>28:cf:e9:49:d7:09</td>\n",
       "      <td>HT20</td>\n",
       "      <td>2</td>\n",
       "      <td>LGI</td>\n",
       "      <td>MCS8</td>\n",
       "      <td>739</td>\n",
       "      <td>1</td>\n",
       "      <td>0</td>\n",
       "    </tr>\n",
       "  </tbody>\n",
       "</table>\n",
       "</div>"
      ],
      "text/plain": [
       "           time                mac  mode  streams guard   name  airtime  \\\n",
       "0  86118.628411  28:cf:e9:49:d7:09  HT20        2   LGI  MCS15       74   \n",
       "1  86119.060008  28:cf:e9:49:d7:09  HT20        1   LGI   MCS1      739   \n",
       "2  86119.972778  28:cf:e9:49:d7:09  HT20        1   SGI   MCS5      166   \n",
       "3  86124.408567  28:cf:e9:49:d7:09   CCK        1    SP   2.0M     5380   \n",
       "4  86124.410734  28:cf:e9:49:d7:09  HT20        2   LGI   MCS8      739   \n",
       "\n",
       "   ampdu_len  success  \n",
       "0          1        1  \n",
       "1          1        1  \n",
       "2          1        1  \n",
       "3          1        1  \n",
       "4          1        0  "
      ]
     },
     "execution_count": 72,
     "metadata": {},
     "output_type": "execute_result"
    }
   ],
   "source": [
    "laptop.head()"
   ]
  },
  {
   "cell_type": "code",
   "execution_count": 73,
   "metadata": {
    "collapsed": false
   },
   "outputs": [
    {
     "data": {
      "text/plain": [
       "1500000"
      ]
     },
     "execution_count": 73,
     "metadata": {},
     "output_type": "execute_result"
    }
   ],
   "source": [
    "len(laptop)"
   ]
  },
  {
   "cell_type": "code",
   "execution_count": 74,
   "metadata": {
    "collapsed": false
   },
   "outputs": [
    {
     "data": {
      "text/plain": [
       "492693"
      ]
     },
     "execution_count": 74,
     "metadata": {},
     "output_type": "execute_result"
    }
   ],
   "source": [
    "len(laptop[laptop.success == 0])"
   ]
  },
  {
   "cell_type": "code",
   "execution_count": null,
   "metadata": {
    "collapsed": true
   },
   "outputs": [],
   "source": []
  }
 ],
 "metadata": {
  "anaconda-cloud": {},
  "kernelspec": {
   "display_name": "Python [default]",
   "language": "python",
   "name": "python2"
  },
  "language_info": {
   "codemirror_mode": {
    "name": "ipython",
    "version": 2
   },
   "file_extension": ".py",
   "mimetype": "text/x-python",
   "name": "python",
   "nbconvert_exporter": "python",
   "pygments_lexer": "ipython2",
   "version": "2.7.12"
  }
 },
 "nbformat": 4,
 "nbformat_minor": 1
}
